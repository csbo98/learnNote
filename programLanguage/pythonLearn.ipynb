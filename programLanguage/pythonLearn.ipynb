{
 "cells": [
  {
   "cell_type": "code",
   "execution_count": 28,
   "metadata": {},
   "outputs": [
    {
     "name": "stdout",
     "output_type": "stream",
     "text": [
      "MyInformation\n"
     ]
    }
   ],
   "source": [
    "# python3 文件相关操作\n",
    "import os\n",
    "import subprocess as sp\n",
    "\n",
    "\n",
    "# python3判断文件是否存在和删除文件\n",
    "# 如果文件temp.txt存在，则删除文件\n",
    "if os.path.exists('./temp.txt'):\n",
    "    #os.system('rm ./temp.txt')\n",
    "    sp.check_output('rm ./temp.txt',shell=True)\n",
    "\n",
    "\n",
    "a = 4\n",
    "b = 2.5678\n",
    "c = 'hello'\n",
    "\n",
    "# 向文件追加内容\n",
    "with open(\"temp.txt\", \"a\") as f:\n",
    "    f.write(\"%d,%f,%s\\n\" %(a,b,c))\n",
    "\n",
    "\n",
    "# 获取文件路径最后的文件名或者是前半部分\n",
    "print(os.path.split(os.path.realpath(\"/Users/boliu/OneDrive/Data/MyInformation/\"))[1])\n",
    "\n"
   ]
  },
  {
   "cell_type": "code",
   "execution_count": 2,
   "metadata": {},
   "outputs": [
    {
     "name": "stdout",
     "output_type": "stream",
     "text": [
      "1\n"
     ]
    }
   ],
   "source": [
    "# python大整数\n",
    "\n",
    "print(int(\"287582945728375928375298365293659\") - int(\"287582945728375928375298365293658\"))"
   ]
  },
  {
   "cell_type": "code",
   "execution_count": 3,
   "metadata": {},
   "outputs": [
    {
     "name": "stdout",
     "output_type": "stream",
     "text": [
      "original list: [67, 2, 62, 23, 93, 28, 35, 95, 13, 63]\n",
      "heapified list: [2, 13, 28, 23, 63, 62, 35, 95, 67, 93]\n",
      "2\n",
      "13 23 28 35 62 63 67 93 95 200 \n",
      "2 small:  [2, 13]\n",
      "[1, 2, 2, 3, 3, 4, 4, 5, 5, 6, 6, 7, 7, 8, 8, 9, 9, 10, 10, 10, 11, 11, 12, 13, 14, 15, 16, 17, 18, 19]\n",
      "(3, 'create tests')\n",
      "[(10, 'write spec'), (7, 'release product'), (5, 'write code')]\n"
     ]
    }
   ],
   "source": [
    "# python3 优先队列用法\n",
    "\n",
    "import random\n",
    "import heapq\n",
    "\n",
    "# 找前k大（小）的元素标准解法是使用优先队列来实现\n",
    "# 合并多个有序列表标准解答方法是用有序列表来实现\n",
    "\n",
    "x = [random.randint(1, 100) for i in range(10)]\n",
    "print(\"original list:\", x)\n",
    "\n",
    "y = x[:]\n",
    "\n",
    "heapq.heapify(x)\n",
    "print(\"heapified list:\", x)\n",
    "\n",
    "# heapq.heappush(x, 200)\n",
    "print(heapq.heappushpop(x, 200))\n",
    "for _ in range(len(x)):\n",
    "    print(heapq.heappop(x), end=' ')\n",
    "\n",
    "print(\"\\n2 small: \", heapq.nsmallest(2, y))\n",
    "\n",
    "\n",
    "num1 = [1, 2, 3, 4, 5, 6, 7, 8, 9, 10]\n",
    "num2 = [2, 3, 4, 5, 6, 7, 8, 9, 10, 11]\n",
    "num3 = [10, 11, 12, 13, 14, 15, 16, 17, 18, 19]\n",
    "\n",
    "res = heapq.merge(num1, num2, num3)\n",
    "\n",
    "print(list(res))\n",
    "\n",
    "# 创建一个空的堆，并且向里面添加元素，在python中\n",
    "# 堆是基于列表来实现的，只是在列表的基础上提供了一些\n",
    "# 函数来实现堆的操作\n",
    "h = []\n",
    "heapq.heappush(h, (5, 'write code'))\n",
    "heapq.heappush(h, (7, 'release product'))\n",
    "heapq.heappush(h, (10, 'write spec'))\n",
    "heapq.heappush(h, (3, 'create tests'))\n",
    "print(heapq.heappop(h))\n",
    "\n",
    "# python3中创建大顶堆的这个函数没有在文档中说明，也没有暴露出来\n",
    "heapq._heapify_max(h)\n",
    "print(h)"
   ]
  },
  {
   "cell_type": "code",
   "execution_count": 1,
   "metadata": {},
   "outputs": [
    {
     "name": "stdout",
     "output_type": "stream",
     "text": [
      "1\n",
      "no\n",
      "[(1, 2), (2, 3), (3, 4), (4, 5), (5, 6), (6, 7), (7, 8), (8, 9), (9, 10), (10, 11)]\n",
      "1 2\n",
      "2 3\n",
      "3 4\n",
      "4 5\n",
      "5 6\n",
      "6 7\n",
      "7 8\n",
      "8 9\n",
      "9 10\n",
      "10 11\n"
     ]
    }
   ],
   "source": [
    "# python3 列表排序\n",
    "s = [ 'a', 'b', 'c', 'd', 'e', 'f', 'g', 'h', 'i', 'j', 'k', 'l', 'm', 'n', 'o', 'p', 'q', 'r', 's', 't', 'u', 'v', 'w', 'x', 'y', 'z' ]\n",
    "s.sort()\n",
    "# python3中，元组是不可变对象，可以直接对两个元祖做比较\n",
    "if((5,2,3) < (1,2,4)):\n",
    "    print(\"yes\")\n",
    "else:\n",
    "    print(\"no\")\n",
    "\n",
    "\n",
    "num1 = [1, 2, 3, 4, 5, 6, 7, 8, 9, 10]\n",
    "num2 = [2, 3, 4, 5, 6, 7, 8, 9, 10, 11]\n",
    "# zip\n",
    "print(list(zip(num1, num2)))\n",
    "for i, j in zip(num1, num2):\n",
    "    print(i, j) "
   ]
  },
  {
   "cell_type": "code",
   "execution_count": 3,
   "metadata": {},
   "outputs": [
    {
     "name": "stdout",
     "output_type": "stream",
     "text": [
      "sorted list:  [13, 24, 24, 26, 30, 37, 40, 41, 97, 127, 130, 130, 132, 139, 146, 147, 151, 160, 214, 226, 237, 247, 248, 262, 276, 280, 302, 332, 339, 370, 379, 386, 392, 404, 404, 407, 414, 418, 429, 440, 457, 466, 473, 477, 500, 500, 500, 500, 500, 513, 513, 532, 540, 540, 570, 576, 577, 577, 584, 589, 605, 608, 624, 626, 632, 642, 646, 648, 649, 660, 687, 687, 697, 707, 731, 745, 747, 764, 787, 792, 796, 803, 838, 864, 865, 868, 874, 880, 881, 898, 898, 902, 903, 904, 910, 914, 914, 916, 917, 954, 955, 961, 976, 980, 993]\n",
      "postion found by bisect_left:  44\n",
      "position found by bisect_right:  49\n",
      "position found by index:  44\n"
     ]
    }
   ],
   "source": [
    "# python3中，bisect二分查找算法的使用\n",
    "\n",
    "import bisect\n",
    "import random\n",
    "import numpy as np\n",
    "\n",
    "ran_list = [random.randint(0, 1000) for _ in range(100)]\n",
    "ran_list\n",
    "ran_list[len(ran_list):] = [500] * 5\n",
    "\n",
    "ran_list.sort()\n",
    "print(\"sorted list: \", ran_list)\n",
    "\n",
    "# 相当于是下界二分查找\n",
    "pos = bisect.bisect_left(ran_list, 500)\n",
    "print(\"postion found by bisect_left: \", pos)\n",
    "#  相当于是上界二分查找 \n",
    "print(\"position found by bisect_right: \", bisect.bisect_right(ran_list, 500))\n",
    "print(\"position found by index: \", ran_list.index(500))\n"
   ]
  },
  {
   "cell_type": "code",
   "execution_count": 23,
   "metadata": {},
   "outputs": [
    {
     "name": "stdout",
     "output_type": "stream",
     "text": [
      "('a', [1, 23])\n",
      "('b', {'kdkdk': 1})\n",
      "('c', 3)\n"
     ]
    }
   ],
   "source": [
    "\n",
    "temp = {\"a\":[1,23],\"b\":{\"kdkdk\":1},\"c\":3}\n",
    "print(temp[\"a\"])"
   ]
  },
  {
   "cell_type": "code",
   "execution_count": null,
   "metadata": {},
   "outputs": [],
   "source": [
    "# subprocess用法详解\n",
    "\n",
    "# check_output的作用是执行一个外部命令并获取它的输出；所以不论命令是否后台执行，它都会一直等到命令执行结束\n",
    "# 不能通过check_output来实现多个命令的并发执行；\n",
    "# 要实现真正的并发执行，可能需要加上multiprocessing模块用多进程来分别调用check_output执行不同的命令才可以\n",
    "\n",
    "import subprocess as sp\n",
    "\n",
    "sp.check_output('sleep 100 &',shell=True)\n",
    "print(\"this statement can be executed after sleep 100\")\n",
    "\n",
    "# C\\C++中执行shell命令的行为不太一样；当用&指定命令后台运行时，主程序不会等待该命令的结果\n",
    "\n"
   ]
  }
 ],
 "metadata": {
  "interpreter": {
   "hash": "a0a5145e6c304e2a9afaf5b930a2955b950bd4b81fe94f7c42930f43f42762eb"
  },
  "kernelspec": {
   "display_name": "Python 3.10.2 64-bit",
   "language": "python",
   "name": "python3"
  },
  "language_info": {
   "codemirror_mode": {
    "name": "ipython",
    "version": 3
   },
   "file_extension": ".py",
   "mimetype": "text/x-python",
   "name": "python",
   "nbconvert_exporter": "python",
   "pygments_lexer": "ipython3",
   "version": "3.10.2"
  },
  "orig_nbformat": 4
 },
 "nbformat": 4,
 "nbformat_minor": 2
}
